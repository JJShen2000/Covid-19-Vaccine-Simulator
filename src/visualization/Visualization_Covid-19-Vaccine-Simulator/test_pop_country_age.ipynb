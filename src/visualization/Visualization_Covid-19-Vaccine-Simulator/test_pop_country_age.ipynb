{
 "cells": [
  {
   "cell_type": "code",
   "execution_count": 4,
   "id": "b0e8726a-5a06-4b2b-9dc6-ca652f78833f",
   "metadata": {},
   "outputs": [],
   "source": [
    "import pandas as pd\n",
    "import numpy as np\n",
    "import os"
   ]
  },
  {
   "cell_type": "code",
   "execution_count": 9,
   "id": "81d3de4d-bc2c-4883-b681-adc38a9036d5",
   "metadata": {},
   "outputs": [],
   "source": [
    "df_age_population = pd.read_csv(os.path.join('age_population.csv'), header=None).drop([1], axis=1)"
   ]
  },
  {
   "cell_type": "code",
   "execution_count": 10,
   "id": "71094342-f1cc-4a40-b448-d68716a93e03",
   "metadata": {},
   "outputs": [
    {
     "data": {
      "text/html": [
       "<div>\n",
       "<style scoped>\n",
       "    .dataframe tbody tr th:only-of-type {\n",
       "        vertical-align: middle;\n",
       "    }\n",
       "\n",
       "    .dataframe tbody tr th {\n",
       "        vertical-align: top;\n",
       "    }\n",
       "\n",
       "    .dataframe thead th {\n",
       "        text-align: right;\n",
       "    }\n",
       "</style>\n",
       "<table border=\"1\" class=\"dataframe\">\n",
       "  <thead>\n",
       "    <tr style=\"text-align: right;\">\n",
       "      <th></th>\n",
       "      <th>0</th>\n",
       "      <th>2</th>\n",
       "      <th>3</th>\n",
       "    </tr>\n",
       "  </thead>\n",
       "  <tbody>\n",
       "    <tr>\n",
       "      <th>0</th>\n",
       "      <td>新北市</td>\n",
       "      <td>0</td>\n",
       "      <td>3533</td>\n",
       "    </tr>\n",
       "    <tr>\n",
       "      <th>1</th>\n",
       "      <td>新北市</td>\n",
       "      <td>1</td>\n",
       "      <td>4109</td>\n",
       "    </tr>\n",
       "    <tr>\n",
       "      <th>2</th>\n",
       "      <td>新北市</td>\n",
       "      <td>2</td>\n",
       "      <td>4202</td>\n",
       "    </tr>\n",
       "    <tr>\n",
       "      <th>3</th>\n",
       "      <td>新北市</td>\n",
       "      <td>3</td>\n",
       "      <td>4497</td>\n",
       "    </tr>\n",
       "    <tr>\n",
       "      <th>4</th>\n",
       "      <td>新北市</td>\n",
       "      <td>4</td>\n",
       "      <td>4899</td>\n",
       "    </tr>\n",
       "    <tr>\n",
       "      <th>...</th>\n",
       "      <td>...</td>\n",
       "      <td>...</td>\n",
       "      <td>...</td>\n",
       "    </tr>\n",
       "    <tr>\n",
       "      <th>37163</th>\n",
       "      <td>連江縣</td>\n",
       "      <td>96</td>\n",
       "      <td>0</td>\n",
       "    </tr>\n",
       "    <tr>\n",
       "      <th>37164</th>\n",
       "      <td>連江縣</td>\n",
       "      <td>97</td>\n",
       "      <td>0</td>\n",
       "    </tr>\n",
       "    <tr>\n",
       "      <th>37165</th>\n",
       "      <td>連江縣</td>\n",
       "      <td>98</td>\n",
       "      <td>0</td>\n",
       "    </tr>\n",
       "    <tr>\n",
       "      <th>37166</th>\n",
       "      <td>連江縣</td>\n",
       "      <td>99</td>\n",
       "      <td>0</td>\n",
       "    </tr>\n",
       "    <tr>\n",
       "      <th>37167</th>\n",
       "      <td>連江縣</td>\n",
       "      <td>100</td>\n",
       "      <td>0</td>\n",
       "    </tr>\n",
       "  </tbody>\n",
       "</table>\n",
       "<p>37168 rows × 3 columns</p>\n",
       "</div>"
      ],
      "text/plain": [
       "         0    2     3\n",
       "0      新北市    0  3533\n",
       "1      新北市    1  4109\n",
       "2      新北市    2  4202\n",
       "3      新北市    3  4497\n",
       "4      新北市    4  4899\n",
       "...    ...  ...   ...\n",
       "37163  連江縣   96     0\n",
       "37164  連江縣   97     0\n",
       "37165  連江縣   98     0\n",
       "37166  連江縣   99     0\n",
       "37167  連江縣  100     0\n",
       "\n",
       "[37168 rows x 3 columns]"
      ]
     },
     "execution_count": 10,
     "metadata": {},
     "output_type": "execute_result"
    }
   ],
   "source": [
    "df_age_population"
   ]
  },
  {
   "cell_type": "code",
   "execution_count": 51,
   "id": "f7049bd5-fecc-4e8e-b7c7-4b036aa659cb",
   "metadata": {},
   "outputs": [],
   "source": [
    "pop_by_country_age = dict.fromkeys(df_age_population[0].unique().tolist())"
   ]
  },
  {
   "cell_type": "code",
   "execution_count": 52,
   "id": "20d3372c-8879-4109-a633-3c6177730442",
   "metadata": {},
   "outputs": [],
   "source": [
    "age_group_boundary = [(0, 4), (5, 18), (19, 64), (65, 100)]"
   ]
  },
  {
   "cell_type": "code",
   "execution_count": 53,
   "id": "1a66bcbf-c474-435e-9da7-5dfa0c510552",
   "metadata": {},
   "outputs": [],
   "source": [
    "for bound in age_group_boundary:\n",
    "    mask = (df_age_population[2] <= bound[1]) & (df_age_population[2] >= bound[0])\n",
    "    temp = df_age_population[mask].drop([2], axis=1).groupby([0], sort=False, as_index = False).sum().set_index(0)\n",
    "\n",
    "    for country in pop_by_country_age.keys():\n",
    "        if pop_by_country_age[country] is None:\n",
    "            pop_by_country_age[country] = []\n",
    "        pop_by_country_age[country].append(temp.loc[country][3])\n",
    "        \n",
    "temp = df_age_population.drop([2], axis=1).groupby([0], sort=False, as_index = False).sum().set_index(0)\n",
    "\n",
    "for country in pop_by_country_age.keys():\n",
    "    pop_by_country_age[country].append(temp.loc[country][3])"
   ]
  },
  {
   "cell_type": "code",
   "execution_count": 54,
   "id": "682c529e-77ec-4cad-b564-2ff6f2973f96",
   "metadata": {},
   "outputs": [
    {
     "data": {
      "text/plain": [
       "{'新北市': [147501, 481393, 2783799, 618261, 4030954],\n",
       " '臺北市': [112764, 317081, 1676934, 495639, 2602418],\n",
       " '桃園市': [110901, 316176, 1549671, 292059, 2268807],\n",
       " '臺中市': [123422, 386396, 1926365, 384604, 2820787],\n",
       " '臺南市': [66798, 224085, 1274763, 309271, 1874917],\n",
       " '高雄市': [101098, 323529, 1879912, 461393, 2765932],\n",
       " '宜蘭縣': [16106, 54307, 304472, 78202, 453087],\n",
       " '新竹縣': [27766, 89264, 379806, 73939, 570775],\n",
       " '苗栗縣': [17781, 69920, 361778, 93111, 542590],\n",
       " '彰化縣': [53182, 159595, 843011, 210882, 1266670],\n",
       " '南投縣': [15596, 55935, 327758, 91543, 490832],\n",
       " '雲林縣': [21751, 80608, 445263, 129251, 676873],\n",
       " '嘉義縣': [13533, 50697, 333644, 101607, 499481],\n",
       " '屏東縣': [24948, 89533, 551824, 146353, 812658],\n",
       " '臺東縣': [7395, 25727, 144555, 37584, 215261],\n",
       " '花蓮縣': [11911, 38556, 217230, 56675, 324372],\n",
       " '澎湖縣': [4357, 10422, 73067, 18106, 105952],\n",
       " '基隆市': [10860, 39495, 252815, 64407, 367577],\n",
       " '新竹市': [22518, 73266, 296516, 59112, 451412],\n",
       " '嘉義市': [9674, 36864, 176146, 43321, 266005],\n",
       " '金門縣': [4858, 11991, 103429, 20319, 140597],\n",
       " '連江縣': [582, 1320, 9701, 1676, 13279]}"
      ]
     },
     "execution_count": 54,
     "metadata": {},
     "output_type": "execute_result"
    }
   ],
   "source": [
    "pop_by_country_age"
   ]
  },
  {
   "cell_type": "code",
   "execution_count": null,
   "id": "c9f3a63d-3731-4f70-a1fd-6aa917ba4754",
   "metadata": {},
   "outputs": [],
   "source": []
  }
 ],
 "metadata": {
  "kernelspec": {
   "display_name": "Python 3 (ipykernel)",
   "language": "python",
   "name": "python3"
  },
  "language_info": {
   "codemirror_mode": {
    "name": "ipython",
    "version": 3
   },
   "file_extension": ".py",
   "mimetype": "text/x-python",
   "name": "python",
   "nbconvert_exporter": "python",
   "pygments_lexer": "ipython3",
   "version": "3.9.7"
  }
 },
 "nbformat": 4,
 "nbformat_minor": 5
}
